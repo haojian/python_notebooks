{
 "metadata": {
  "name": "",
  "signature": "sha256:31f4a5faa526dc4da00ae4a1d5c5ef0020b1a08e2b433ab3a876fee7aea7cd38"
 },
 "nbformat": 3,
 "nbformat_minor": 0,
 "worksheets": [
  {
   "cells": [
    {
     "cell_type": "markdown",
     "metadata": {},
     "source": [
      "##kalman filter"
     ]
    },
    {
     "cell_type": "code",
     "collapsed": false,
     "input": [
      "__author__ = 'haojian'\n",
      "\n",
      "from numpy.linalg import inv\n",
      "from numpy import identity\n",
      "\n",
      "class KalmanFilter:\n",
      "    \"\"\"\n",
      "    Kalman filter for track\n",
      "    x_{k+1} = A * x_k + B * u_k + w_k;\n",
      "    z_k     = H * x_k + v_k;\n",
      "\n",
      "    \"\"\"\n",
      "    def __init__(self, X, P, A, B, U, Q, Z, H, R):\n",
      "        \"\"\"\n",
      "        Initialise the filter\n",
      "\n",
      "        Args:\n",
      "            X: State estimate\n",
      "            P: Estimate covaConfigureriance\n",
      "            A: State transition model\n",
      "            B: Control-input model\n",
      "            U: Control-input term\n",
      "            Q: Process noise covariance\n",
      "            Z: Measurement of the state X\n",
      "            H: Observation model\n",
      "            R: Observation noise covariance\n",
      "        \"\"\"\n",
      "        self.X = X\n",
      "        self.P = P\n",
      "        self.A = A\n",
      "        self.B = B\n",
      "        self.U = U\n",
      "        self.Q = Q\n",
      "        self.Z = Z\n",
      "        self.H = H\n",
      "        self.R = R\n",
      "\n",
      "\n",
      "    def predict(self, X, U, P, w=0):\n",
      "        \"\"\"\n",
      "        Predict the future state\n",
      "\n",
      "        Args:\n",
      "            X: State estimate\n",
      "            P: Estimate covariance\n",
      "            w: Process noise\n",
      "        Returns:\n",
      "            updated (X, P)\n",
      "        \"\"\"\n",
      "        # Project the state ahead\n",
      "        X = self.A * X + self.B * U + w\n",
      "        P = self.A * P * (self.A.T) + self.Q\n",
      "        return(X, P)\n",
      "\n",
      "    def update(self, X, P, Z):\n",
      "        \"\"\"\n",
      "        Update the Kalman Filter from a measurement\n",
      "\n",
      "        Args:\n",
      "            X: State estimate\n",
      "            P: Estimate covariance\n",
      "            Z: State measurement\n",
      "        Returns:\n",
      "            updated (X, P)\n",
      "        \"\"\"\n",
      "        K = P * (self.H.T) * inv(self.H * P * (self.H.T) + self.R)\n",
      "        X += K * (Z - self.H * X)\n",
      "        P = (identity(P.shape[1]) - K * self.H) * P\n",
      "        return (X, P)"
     ],
     "language": "python",
     "metadata": {},
     "outputs": [],
     "prompt_number": 3
    },
    {
     "cell_type": "code",
     "collapsed": false,
     "input": [
      "'''\n",
      "Created on Mar 16, 2013\n",
      "\n",
      "@author: Doug Szumski\n",
      "\n",
      "Helper utilities for Kalman filter examples\n",
      "'''\n",
      "from collections import deque\n",
      "import matplotlib.pyplot as plt\n",
      "from pylab import rcParams\n",
      "\n",
      "\n",
      "class MovingAverage:\n",
      "    \"\"\"\n",
      "    Calculates a moving average\n",
      "    \"\"\"\n",
      "    def __init__(self, size):\n",
      "        \"\"\"\n",
      "        Configure the averaging window\n",
      "\n",
      "        Args:\n",
      "            size: window size\n",
      "        \"\"\"\n",
      "        self.size = size\n",
      "        self.stack = deque([])\n",
      "\n",
      "    def update(self, value):\n",
      "        \"\"\"\n",
      "        Update the moving average\n",
      "\n",
      "        Args:\n",
      "            value: latest reading\n",
      "        \"\"\"\n",
      "        if (len(self.stack) < self.size):\n",
      "            self.stack.append(value)\n",
      "        else:\n",
      "            self.stack.append(value)\n",
      "            self.stack.popleft()\n",
      "\n",
      "    def getAvg(self):\n",
      "        \"\"\"\n",
      "        Returns the current moving average\n",
      "        \"\"\"\n",
      "        self.avg = 0.0\n",
      "        for value in self.stack:\n",
      "            self.avg += value\n",
      "        self.avg /= self.size\n",
      "        return self.avg\n",
      "\n",
      "\n",
      "class Logger:\n",
      "    \"\"\"\n",
      "    Simple logger\n",
      "    \"\"\"\n",
      "    def __init__(self):\n",
      "        \"\"\"\n",
      "        Create a container for the logs\n",
      "        \"\"\"\n",
      "        self.logs = {}\n",
      "\n",
      "    def new_log(self, item):\n",
      "        \"\"\"\n",
      "        Add a new log\n",
      "\n",
      "        Args:\n",
      "            item: log name\n",
      "        \"\"\"\n",
      "        self.logs[item] = []\n",
      "\n",
      "    def get_log(self, item):\n",
      "        \"\"\"\n",
      "        Returns a log\n",
      "\n",
      "        Args:\n",
      "            item: name of log to return\n",
      "        \"\"\"\n",
      "        return self.logs[item]\n",
      "\n",
      "    def get_all_logs(self):\n",
      "        \"\"\"\n",
      "        Returns all logs\n",
      "        \"\"\"\n",
      "        return self.logs\n",
      "\n",
      "    def log(self, item, data):\n",
      "        \"\"\"\n",
      "        Log a value to a log\n",
      "\n",
      "        Args:\n",
      "            item: log name\n",
      "            data: value to log\n",
      "        \"\"\"\n",
      "        self.logs[item].append(data)\n",
      "\n",
      "\n",
      "class KalmanPlotter:\n",
      "    \"\"\"\n",
      "    Plots logged data from Kalman Filter\n",
      "    \"\"\"\n",
      "    def __init__(self):\n",
      "        \"\"\"\n",
      "        Configure the plot\n",
      "        \"\"\"\n",
      "        # Setup a summary figure\n",
      "        self.fig = plt.figure()\n",
      "        self.ax1 = plt.subplot2grid((2, 1), (0, 0))\n",
      "        self.ax2 = plt.subplot2grid((2, 1), (1, 0))\n",
      "        # Set the legend to auto locate\n",
      "        rcParams['legend.loc'] = 'best'\n",
      "\n",
      "    def plot_kalman_data(self, log):\n",
      "        \"\"\"\n",
      "        Plot the system behaviour as a function of time\n",
      "\n",
      "        Args:\n",
      "            log: a dictionary containing the keys plotted below each\n",
      "                 associated with a list of data\n",
      "        \"\"\"\n",
      "        # Plot the evolution of the system state\n",
      "        self.ax1.set_title(\"Kalman filter\")\n",
      "        self.ax1.set_xlabel(\"Time (s)\")\n",
      "        self.ax1.set_ylabel(\"Position (m)\")\n",
      "        self.ax1.plot(log.get_log('time'), log.get_log('measurement'),\n",
      "                 'o', label='Measured', markersize=5)\n",
      "        self.ax1.plot(log.get_log('time'), log.get_log('estimate'),\n",
      "                 '-', label='Estimated', markersize=5)\n",
      "        self.ax1.plot(log.get_log('time'), log.get_log('actual'),\n",
      "                 '-', label='Actual', markersize=5)\n",
      "        self.ax1.plot(log.get_log('time'), log.get_log('moving average'),\n",
      "                 '-', label='Averaged', markersize=5)\n",
      "        self.ax1.legend(prop={'size': 10})\n",
      "        # Plot the evolution of the state covariance\n",
      "        self.ax2.set_xlabel(\"Time (s)\")\n",
      "        self.ax2.set_ylabel(\"State covariance\")\n",
      "        self.ax2.plot(log.get_log('time'), log.get_log('covariance'),\n",
      "                  '-', label='State covariance', markersize=5)\n",
      "        plt.show()\n"
     ],
     "language": "python",
     "metadata": {},
     "outputs": [],
     "prompt_number": 4
    },
    {
     "cell_type": "code",
     "collapsed": false,
     "input": [
      "from numpy import matrix, diag, random\n",
      "\n",
      "# Time step size\n",
      "dt = 0.1\n",
      "# Standard deviation of random accelerations\n",
      "sigma_a = 0.5\n",
      "# Standard deviation of observations\n",
      "sigma_z = 0.2\n",
      "\n",
      "# State vector: [p_x, p_y, p_z, v_x, v_y, v_z]^T\n",
      "X = matrix([[0.0], [0.0], [0.0], [0.0], [0.0], [0.0]])\n",
      "# Initial state covariance\n",
      "P = diag((0.0, 0.0, 0.0, 0.0, 0.0, 0.0))\n",
      "# State transition model\n",
      "A = matrix([[1, 0, 0, dt, 0, 0], [0, 1, 0, 0, dt, 0], [0, 0, 1, 0, 0, dt], [0, 0, 0, 1, 0, 0], [0, 0, 0, 0, 1, 0], [0, 0, 0, 0, 0, 1]])\n",
      "# B: Control-input model\n",
      "B = matrix([[(dt ** 2) / 2, 0, 0], [0, (dt ** 2)/2, 0], [0, 0, (dt ** 2)/2], [1, 0, 0], [0, 1, 0], [0, 0, 1]])\n",
      "# U: Control-input term: u_k = [a_x, a_y, a_z]^T\n",
      "U = matrix([[0.0], [0.0], [0.0]])\n",
      "\n",
      "# Observation vector [x, y, z]\n",
      "Z = matrix([[0.0], [0.0], [0.0]])\n",
      "# Observation model\n",
      "H = matrix([[1, 0, 0, 0, 0, 0], [0, 1, 0, 0, 0, 0], [0, 0, 1, 0, 0, 0]])\n",
      "# Observation covariance\n",
      "R = diag(((sigma_z ** 2), (sigma_z ** 2), (sigma_z ** 2)))\n",
      "# Process noise covariance matrix\n",
      "R_v = diag(((sigma_a ** 2), (sigma_a ** 2), (sigma_a ** 2)))\n",
      "Q = B * R_v * B.T\n",
      "\n",
      "\n",
      "# Initialise the filter\n",
      "kf = KalmanFilter(X, P, A, B, U, Q, Z, H, R)\n",
      "\n",
      "# Set the actual position equal to the starting position\n",
      "POS = X\n",
      "\n",
      "# Create log for generating plots\n",
      "log = Logger()\n",
      "log.new_log('measurement')\n",
      "log.new_log('estimate')\n",
      "log.new_log('actual')\n",
      "log.new_log('time')\n",
      "log.new_log('covariance')\n",
      "log.new_log('moving average')\n",
      "\n",
      "# Moving average for measurements\n",
      "moving_avg = MovingAverage(15)\n",
      "\n",
      "# Number of iterations to perform\n",
      "iterations = 100\n",
      "\n",
      "for i in range(0, iterations):\n",
      "    # Generate a random acceleration\n",
      "    w = matrix(random.multivariate_normal([0.0, 0.0, 0.0, 0.0, 0.0, 0.0], Q)).T\n",
      "    # Predict\n",
      "    (X, P) = kf.predict(X, U, P, w)\n",
      "    # Update\n",
      "    (X, P) = kf.update(X, P, Z)\n",
      "    # Update the actual position\n",
      "    POS = A * POS + B * U + w\n",
      "    # Synthesise a new noisy measurement distributed around the real position\n",
      "    Z = matrix([[random.normal(POS[0, 0], sigma_z)], [random.normal(POS[1, 0], sigma_z)], [random.normal(POS[2, 0], sigma_z)]])\n",
      "\n",
      "    # POS_X\n",
      "    # # Update the moving average with the latest measured position\n",
      "    # moving_avg.update(Z[0, 0])\n",
      "    # # Update the log for plotting later\n",
      "    # log.log('measurement', Z[0, 0])\n",
      "    # log.log('estimate', X[0, 0])\n",
      "    # log.log('actual', POS[0, 0])\n",
      "    # log.log('time', i * dt)\n",
      "    # log.log('covariance', P[0, 0])\n",
      "    # log.log('moving average', moving_avg.getAvg())\n",
      "\n",
      "    # POS_Y\n",
      "    # # Update the moving average with the latest measured position\n",
      "    # moving_avg.update(Z[1, 0])\n",
      "    # # Update the log for plotting later\n",
      "    # log.log('measurement', Z[1, 0])\n",
      "    # log.log('estimate', X[1, 0])\n",
      "    # log.log('actual', POS[1, 0])\n",
      "    # log.log('time', i * dt)\n",
      "    # log.log('covariance', P[1, 1])\n",
      "    # log.log('moving average', moving_avg.getAvg())\n",
      "\n",
      "    # POS_Z\n",
      "    # Update the moving average with the latest measured position\n",
      "    moving_avg.update(Z[2, 0])\n",
      "    # Update the log for plotting later\n",
      "    log.log('measurement', Z[2, 0])\n",
      "    log.log('estimate', X[2, 0])\n",
      "    log.log('actual', POS[2, 0])\n",
      "    log.log('time', i * dt)\n",
      "    log.log('covariance', P[2, 2])\n",
      "    log.log('moving average', moving_avg.getAvg())\n",
      "\n",
      "# Plot the system behaviour\n",
      "plotter = KalmanPlotter()\n",
      "plotter.plot_kalman_data(log)"
     ],
     "language": "python",
     "metadata": {},
     "outputs": [
      {
       "metadata": {},
       "output_type": "display_data",
       "png": "[encoded data removed]",
       "text": [
        "<matplotlib.figure.Figure at 0x10804c810>"
       ]
      }
     ],
     "prompt_number": 16
    },
    {
     "cell_type": "code",
     "collapsed": false,
     "input": [
      "P"
     ],
     "language": "python",
     "metadata": {},
     "outputs": [
      {
       "metadata": {},
       "output_type": "pyout",
       "prompt_number": 17,
       "text": [
        "matrix([[ 0.02037792,  0.        ,  0.        ,  0.07003942,  0.        ,\n",
        "          0.        ],\n",
        "        [ 0.        ,  0.02037792,  0.        ,  0.        ,  0.07003942,\n",
        "          0.        ],\n",
        "        [ 0.        ,  0.        ,  0.02037792,  0.        ,  0.        ,\n",
        "          0.07003942],\n",
        "        [ 0.07003942,  0.        ,  0.        ,  0.71487311,  0.        ,\n",
        "          0.        ],\n",
        "        [ 0.        ,  0.07003942,  0.        ,  0.        ,  0.71487311,\n",
        "          0.        ],\n",
        "        [ 0.        ,  0.        ,  0.07003942,  0.        ,  0.        ,\n",
        "          0.71487311]])"
       ]
      }
     ],
     "prompt_number": 17
    },
    {
     "cell_type": "code",
     "collapsed": false,
     "input": [
      "Z[1,0]"
     ],
     "language": "python",
     "metadata": {},
     "outputs": [
      {
       "metadata": {},
       "output_type": "pyout",
       "prompt_number": 10,
       "text": [
        "30.135671917238906"
       ]
      }
     ],
     "prompt_number": 10
    },
    {
     "cell_type": "code",
     "collapsed": false,
     "input": [
      "Z[2,0]"
     ],
     "language": "python",
     "metadata": {},
     "outputs": [
      {
       "metadata": {},
       "output_type": "pyout",
       "prompt_number": 136,
       "text": [
        "16.989949768758763"
       ]
      }
     ],
     "prompt_number": 136
    },
    {
     "cell_type": "code",
     "collapsed": false,
     "input": [
      "diag((0.0, 0.0, 0.0, 0.0, 0.0, 0.0))"
     ],
     "language": "python",
     "metadata": {},
     "outputs": [
      {
       "metadata": {},
       "output_type": "pyout",
       "prompt_number": 2,
       "text": [
        "array([[ 0.,  0.,  0.,  0.,  0.,  0.],\n",
        "       [ 0.,  0.,  0.,  0.,  0.,  0.],\n",
        "       [ 0.,  0.,  0.,  0.,  0.,  0.],\n",
        "       [ 0.,  0.,  0.,  0.,  0.,  0.],\n",
        "       [ 0.,  0.,  0.,  0.,  0.,  0.],\n",
        "       [ 0.,  0.,  0.,  0.,  0.,  0.]])"
       ]
      }
     ],
     "prompt_number": 2
    },
    {
     "cell_type": "code",
     "collapsed": false,
     "input": [
      "diag(((sigma_z ** 2), (sigma_z ** 2), (sigma_z ** 2)))\n"
     ],
     "language": "python",
     "metadata": {},
     "outputs": [
      {
       "metadata": {},
       "output_type": "pyout",
       "prompt_number": 12,
       "text": [
        "array([[ 0.04,  0.  ,  0.  ],\n",
        "       [ 0.  ,  0.04,  0.  ],\n",
        "       [ 0.  ,  0.  ,  0.04]])"
       ]
      }
     ],
     "prompt_number": 12
    },
    {
     "cell_type": "code",
     "collapsed": false,
     "input": [
      "H"
     ],
     "language": "python",
     "metadata": {},
     "outputs": [
      {
       "metadata": {},
       "output_type": "pyout",
       "prompt_number": 13,
       "text": [
        "matrix([[1, 0, 0, 0, 0, 0],\n",
        "        [0, 1, 0, 0, 0, 0],\n",
        "        [0, 0, 1, 0, 0, 0]])"
       ]
      }
     ],
     "prompt_number": 13
    },
    {
     "cell_type": "code",
     "collapsed": false,
     "input": [
      "Q"
     ],
     "language": "python",
     "metadata": {},
     "outputs": [
      {
       "metadata": {},
       "output_type": "pyout",
       "prompt_number": 14,
       "text": [
        "matrix([[  6.25000000e-06,   0.00000000e+00,   0.00000000e+00,\n",
        "           1.25000000e-03,   0.00000000e+00,   0.00000000e+00],\n",
        "        [  0.00000000e+00,   6.25000000e-06,   0.00000000e+00,\n",
        "           0.00000000e+00,   1.25000000e-03,   0.00000000e+00],\n",
        "        [  0.00000000e+00,   0.00000000e+00,   6.25000000e-06,\n",
        "           0.00000000e+00,   0.00000000e+00,   1.25000000e-03],\n",
        "        [  1.25000000e-03,   0.00000000e+00,   0.00000000e+00,\n",
        "           2.50000000e-01,   0.00000000e+00,   0.00000000e+00],\n",
        "        [  0.00000000e+00,   1.25000000e-03,   0.00000000e+00,\n",
        "           0.00000000e+00,   2.50000000e-01,   0.00000000e+00],\n",
        "        [  0.00000000e+00,   0.00000000e+00,   1.25000000e-03,\n",
        "           0.00000000e+00,   0.00000000e+00,   2.50000000e-01]])"
       ]
      }
     ],
     "prompt_number": 14
    },
    {
     "cell_type": "code",
     "collapsed": false,
     "input": [
      "R"
     ],
     "language": "python",
     "metadata": {},
     "outputs": [
      {
       "metadata": {},
       "output_type": "pyout",
       "prompt_number": 15,
       "text": [
        "array([[ 0.04,  0.  ,  0.  ],\n",
        "       [ 0.  ,  0.04,  0.  ],\n",
        "       [ 0.  ,  0.  ,  0.04]])"
       ]
      }
     ],
     "prompt_number": 15
    },
    {
     "cell_type": "code",
     "collapsed": false,
     "input": [],
     "language": "python",
     "metadata": {},
     "outputs": []
    }
   ],
   "metadata": {}
  }
 ]
}