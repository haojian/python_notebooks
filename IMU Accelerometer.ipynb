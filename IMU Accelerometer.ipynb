{
 "metadata": {
  "name": "",
  "signature": "sha256:35209c6e52be550d6b93c6c865e863dd1e73e198fbf904be93082bf6cd0aed00"
 },
 "nbformat": 3,
 "nbformat_minor": 0,
 "worksheets": [
  {
   "cells": [
    {
     "cell_type": "code",
     "collapsed": false,
     "input": [
      "#!/usr/bin/env python\n",
      "#Author Phinfinity <rndanish@gmail.com>\n",
      "\n",
      "import sys\n",
      "RECORD_SIZE=20 # timestamp-8 , 3xfloats (3x4 = 12)\n",
      "AVG_RANGE=20\n",
      "\n",
      "def error_exit(s):\n",
      "    print s\n",
      "    sys.exit(2)\n",
      "if len(sys.argv) != 2:\n",
      "    error_exit(\"Usage : %s input_file\"%sys.argv[0])\n",
      "import struct\n",
      "import matplotlib\n",
      "import pylab\n",
      "import numpy as np\n",
      "import math\n",
      "import datetime\n",
      "\n",
      "\n",
      "if(len(sys.argv) == 3):\n",
      "    AVG_RANGE = int(sys.argv[2])\n",
      "file_name = sys.argv[1]\n",
      "f = open(file_name, 'rb')\n",
      "f.seek(0,2)\n",
      "sz = f.tell()\n",
      "f.seek(0,0)\n",
      "if (sz%2 != 0):\n",
      "    error_exit(\"Corrupted file, invalid size\")\n",
      "n = sz/20\n",
      "a = []\n",
      "maxg = 0.0\n",
      "maxAvg_g = 0.0\n",
      "lAvg_g = 0.0\n",
      "def calcg(p):\n",
      "    return (p[1]*p[1]+p[2]*p[2]+p[3]*p[3])**0.5\n",
      "\n",
      "def slidewindowSmooth(p, w):\n",
      "    arraylen = len(p);\n",
      "    for i in  xrange(arraylen):\n",
      "\n",
      "\tif( i>arraylen-w || i<w):\n",
      "\t\t\n",
      "\n",
      "for i in xrange(n):\n",
      "    s = f.read(20)\n",
      "    (t,x,y,z) = struct.unpack(\">Qfff\",s)\n",
      "    a.append((t,x,y,z))\n",
      "    maxg = max(maxg,calcg(a[-1]))\n",
      "    if(i-AVG_RANGE>=0):\n",
      "        lAvg_g-=calcg(a[i-AVG_RANGE])\n",
      "    lAvg_g+=calcg(a[-1])\n",
      "    maxAvg_g=max(maxAvg_g,lAvg_g/AVG_RANGE)\n",
      "duration = a[-1][0] - a[0][0]\n",
      "sys.stderr.write(\"Duration : %s\\n\"%(str(datetime.timedelta(seconds=duration/1000))))\n",
      "sys.stderr.write(\"%d Data points\\n\"%len(a))\n",
      "sys.stderr.write(\"Maximum Acceleration %f\\n\"%maxg)\n",
      "sys.stderr.write(\"Maximum Acceleration (%d point Avg) %f\\n\"%(AVG_RANGE,maxAvg_g))\n",
      "avg_g = reduce(lambda x,y: x+y, map(calcg,a))/len(a)\n",
      "sys.stderr.write(\"Average Acceleration %f\\n\"%avg_g)\n",
      "X = map(lambda x: pylab.date2num(datetime.datetime.fromtimestamp(x[0]/1000.0)),a)\n",
      "G = map(calcg, a)\n",
      "G_x = map(lambda x : x[1] , a)\n",
      "G_y = map(lambda x : x[2] , a)\n",
      "G_z = map(lambda x : x[3] , a)\n",
      "# pylab.plot_date(X,G,\"bo\",xdate=True,ydate=False)\n",
      "# pylab.plot_date(X,G,\"r-\",xdate=True,ydate=False)\n",
      "pylab.plot_date(X,G_x,\"bo\",xdate=True,ydate=False)\n",
      "pylab.plot_date(X,G_x,\"g-\",xdate=True,ydate=False)\n",
      "# pylab.plot_date(X,G_y,\"c-\",xdate=True,ydate=False)\n",
      "# pylab.plot_date(X,G_z,\"k-\",xdate=True,ydate=False)\n",
      "pylab.show()\n"
     ],
     "language": "python",
     "metadata": {},
     "outputs": [
      {
       "ename": "SyntaxError",
       "evalue": "invalid syntax (<ipython-input-1-1994daa95f99>, line 42)",
       "output_type": "pyerr",
       "traceback": [
        "\u001b[0;36m  File \u001b[0;32m\"<ipython-input-1-1994daa95f99>\"\u001b[0;36m, line \u001b[0;32m42\u001b[0m\n\u001b[0;31m    if( i>arraylen-w || i<w):\u001b[0m\n\u001b[0m                      ^\u001b[0m\n\u001b[0;31mSyntaxError\u001b[0m\u001b[0;31m:\u001b[0m invalid syntax\n"
       ]
      }
     ],
     "prompt_number": 1
    },
    {
     "cell_type": "code",
     "collapsed": false,
     "input": [],
     "language": "python",
     "metadata": {},
     "outputs": []
    }
   ],
   "metadata": {}
  }
 ]
}