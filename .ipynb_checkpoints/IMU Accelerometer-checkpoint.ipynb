{
 "metadata": {
  "name": "",
  "signature": "sha256:613690b25c23a92c1e0504521a97d981c4ad003f685ec0029ea3e2d187f072be"
 },
 "nbformat": 3,
 "nbformat_minor": 0,
 "worksheets": []
}