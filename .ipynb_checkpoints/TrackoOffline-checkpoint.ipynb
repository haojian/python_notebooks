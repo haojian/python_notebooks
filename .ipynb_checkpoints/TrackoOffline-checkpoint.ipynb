{
 "metadata": {
  "name": "",
  "signature": "sha256:3a0ea4c0cd2d273cea24ad8411678a03910357f9cbf0f9bcdfb3cc6f4657d59b"
 },
 "nbformat": 3,
 "nbformat_minor": 0,
 "worksheets": [
  {
   "cells": [
    {
     "cell_type": "markdown",
     "metadata": {},
     "source": [
      "##Tracko offline calculation\n",
      "extract distance from the timestamp\n",
      "\n"
     ]
    },
    {
     "cell_type": "code",
     "collapsed": false,
     "input": [
      "%load /Users/haojian/tracko/TrackoEvaluation/python/detect_peaks.py"
     ],
     "language": "python",
     "metadata": {},
     "outputs": [],
     "prompt_number": 2
    },
    {
     "cell_type": "code",
     "collapsed": false,
     "input": [
      "\"\"\"Detect peaks in data based on their amplitude and other features.\"\"\"\n",
      "\n",
      "from __future__ import division, print_function\n",
      "import numpy as np\n",
      "\n",
      "__author__ = \"Marcos Duarte, https://github.com/demotu/BMC\"\n",
      "__version__ = \"1.0.4\"\n",
      "__license__ = \"MIT\"\n",
      "\n",
      "\n",
      "def detect_peaks(x, mph=None, mpd=1, threshold=0, edge='rising',\n",
      "                 kpsh=False, valley=False, show=False, ax=None):\n",
      "\n",
      "    \"\"\"Detect peaks in data based on their amplitude and other features.\n",
      "\n",
      "    Parameters\n",
      "    ----------\n",
      "    x : 1D array_like\n",
      "        data.\n",
      "    mph : {None, number}, optional (default = None)\n",
      "        detect peaks that are greater than minimum peak height.\n",
      "    mpd : positive integer, optional (default = 1)\n",
      "        detect peaks that are at least separated by minimum peak distance (in\n",
      "        number of data).\n",
      "    threshold : positive number, optional (default = 0)\n",
      "        detect peaks (valleys) that are greater (smaller) than `threshold`\n",
      "        in relation to their immediate neighbors.\n",
      "    edge : {None, 'rising', 'falling', 'both'}, optional (default = 'rising')\n",
      "        for a flat peak, keep only the rising edge ('rising'), only the\n",
      "        falling edge ('falling'), both edges ('both'), or don't detect a\n",
      "        flat peak (None).\n",
      "    kpsh : bool, optional (default = False)\n",
      "        keep peaks with same height even if they are closer than `mpd`.\n",
      "    valley : bool, optional (default = False)\n",
      "        if True (1), detect valleys (local minima) instead of peaks.\n",
      "    show : bool, optional (default = False)\n",
      "        if True (1), plot data in matplotlib figure.\n",
      "    ax : a matplotlib.axes.Axes instance, optional (default = None).\n",
      "\n",
      "    Returns\n",
      "    -------\n",
      "    ind : 1D array_like\n",
      "        indeces of the peaks in `x`.\n",
      "\n",
      "    Notes\n",
      "    -----\n",
      "    The detection of valleys instead of peaks is performed internally by simply\n",
      "    negating the data: `ind_valleys = detect_peaks(-x)`\n",
      "    \n",
      "    The function can handle NaN's \n",
      "\n",
      "    See this IPython Notebook [1]_.\n",
      "\n",
      "    References\n",
      "    ----------\n",
      "    .. [1] http://nbviewer.ipython.org/github/demotu/BMC/blob/master/notebooks/DetectPeaks.ipynb\n",
      "\n",
      "    Examples\n",
      "    --------\n",
      "    >>> from detect_peaks import detect_peaks\n",
      "    >>> x = np.random.randn(100)\n",
      "    >>> x[60:81] = np.nan\n",
      "    >>> # detect all peaks and plot data\n",
      "    >>> ind = detect_peaks(x, show=True)\n",
      "    >>> print(ind)\n",
      "\n",
      "    >>> x = np.sin(2*np.pi*5*np.linspace(0, 1, 200)) + np.random.randn(200)/5\n",
      "    >>> # set minimum peak height = 0 and minimum peak distance = 20\n",
      "    >>> detect_peaks(x, mph=0, mpd=20, show=True)\n",
      "\n",
      "    >>> x = [0, 1, 0, 2, 0, 3, 0, 2, 0, 1, 0]\n",
      "    >>> # set minimum peak distance = 2\n",
      "    >>> detect_peaks(x, mpd=2, show=True)\n",
      "\n",
      "    >>> x = np.sin(2*np.pi*5*np.linspace(0, 1, 200)) + np.random.randn(200)/5\n",
      "    >>> # detection of valleys instead of peaks\n",
      "    >>> detect_peaks(x, mph=0, mpd=20, valley=True, show=True)\n",
      "\n",
      "    >>> x = [0, 1, 1, 0, 1, 1, 0]\n",
      "    >>> # detect both edges\n",
      "    >>> detect_peaks(x, edge='both', show=True)\n",
      "\n",
      "    >>> x = [-2, 1, -2, 2, 1, 1, 3, 0]\n",
      "    >>> # set threshold = 2\n",
      "    >>> detect_peaks(x, threshold = 2, show=True)\n",
      "    \"\"\"\n",
      "\n",
      "    x = np.atleast_1d(x).astype('float64')\n",
      "    if x.size < 3:\n",
      "        return np.array([], dtype=int)\n",
      "    if valley:\n",
      "        x = -x\n",
      "    # find indices of all peaks\n",
      "    dx = x[1:] - x[:-1]\n",
      "    # handle NaN's\n",
      "    indnan = np.where(np.isnan(x))[0]\n",
      "    if indnan.size:\n",
      "        x[indnan] = np.inf\n",
      "        dx[np.where(np.isnan(dx))[0]] = np.inf\n",
      "    ine, ire, ife = np.array([[], [], []], dtype=int)\n",
      "    if not edge:\n",
      "        ine = np.where((np.hstack((dx, 0)) < 0) & (np.hstack((0, dx)) > 0))[0]\n",
      "    else:\n",
      "        if edge.lower() in ['rising', 'both']:\n",
      "            ire = np.where((np.hstack((dx, 0)) <= 0) & (np.hstack((0, dx)) > 0))[0]\n",
      "        if edge.lower() in ['falling', 'both']:\n",
      "            ife = np.where((np.hstack((dx, 0)) < 0) & (np.hstack((0, dx)) >= 0))[0]\n",
      "    ind = np.unique(np.hstack((ine, ire, ife)))\n",
      "    # handle NaN's\n",
      "    if ind.size and indnan.size:\n",
      "        # NaN's and values close to NaN's cannot be peaks\n",
      "        ind = ind[np.in1d(ind, np.unique(np.hstack((indnan, indnan-1, indnan+1))), invert=True)]\n",
      "    # first and last values of x cannot be peaks\n",
      "    if ind.size and ind[0] == 0:\n",
      "        ind = ind[1:]\n",
      "    if ind.size and ind[-1] == x.size-1:\n",
      "        ind = ind[:-1]\n",
      "    # remove peaks < minimum peak height\n",
      "    if ind.size and mph is not None:\n",
      "        ind = ind[x[ind] >= mph]\n",
      "    # remove peaks - neighbors < threshold\n",
      "    if ind.size and threshold > 0:\n",
      "        dx = np.min(np.vstack([x[ind]-x[ind-1], x[ind]-x[ind+1]]), axis=0)\n",
      "        ind = np.delete(ind, np.where(dx < threshold)[0])\n",
      "    # detect small peaks closer than minimum peak distance\n",
      "    if ind.size and mpd > 1:\n",
      "        ind = ind[np.argsort(x[ind])][::-1]  # sort ind by peak height\n",
      "        idel = np.zeros(ind.size, dtype=bool)\n",
      "        for i in range(ind.size):\n",
      "            if not idel[i]:\n",
      "                # keep peaks with the same height if kpsh is True\n",
      "                idel = idel | (ind >= ind[i] - mpd) & (ind <= ind[i] + mpd) \\\n",
      "                    & (x[ind[i]] > x[ind] if kpsh else True)\n",
      "                idel[i] = 0  # Keep current peak\n",
      "        # remove the small peaks and sort back the indices by their occurrence\n",
      "        ind = np.sort(ind[~idel])\n",
      "\n",
      "    if show:\n",
      "        if indnan.size:\n",
      "            x[indnan] = np.nan\n",
      "        if valley:\n",
      "            x = -x\n",
      "        _plot(x, mph, mpd, threshold, edge, valley, ax, ind)\n",
      "\n",
      "    return ind\n",
      "\n",
      "\n",
      "def _plot(x, mph, mpd, threshold, edge, valley, ax, ind):\n",
      "    \"\"\"Plot results of the detect_peaks function, see its help.\"\"\"\n",
      "    try:\n",
      "        import matplotlib.pyplot as plt\n",
      "    except ImportError:\n",
      "        print('matplotlib is not available.')\n",
      "    else:\n",
      "        if ax is None:\n",
      "            _, ax = plt.subplots(1, 1, figsize=(8, 4))\n",
      "\n",
      "        ax.plot(x, 'b', lw=1)\n",
      "        if ind.size:\n",
      "            label = 'valley' if valley else 'peak'\n",
      "            label = label + 's' if ind.size > 1 else label\n",
      "            ax.plot(ind, x[ind], '+', mfc=None, mec='r', mew=2, ms=8,\n",
      "                    label='%d %s' % (ind.size, label))\n",
      "            ax.legend(loc='best', framealpha=.5, numpoints=1)\n",
      "        ax.set_xlim(-.02*x.size, x.size*1.02-1)\n",
      "        ymin, ymax = x[np.isfinite(x)].min(), x[np.isfinite(x)].max()\n",
      "        yrange = ymax - ymin if ymax > ymin else 1\n",
      "        ax.set_ylim(ymin - 0.1*yrange, ymax + 0.1*yrange)\n",
      "        ax.set_xlabel('Data #', fontsize=14)\n",
      "        ax.set_ylabel('Amplitude', fontsize=14)\n",
      "        mode = 'Valley detection' if valley else 'Peak detection'\n",
      "        ax.set_title(\"%s (mph=%s, mpd=%d, threshold=%s, edge='%s')\"\n",
      "                     % (mode, str(mph), mpd, str(threshold), edge))\n",
      "        # plt.grid()\n",
      "        plt.show()\n"
     ],
     "language": "python",
     "metadata": {},
     "outputs": [],
     "prompt_number": 3
    },
    {
     "cell_type": "code",
     "collapsed": false,
     "input": [
      "import scipy\n",
      "import time\n",
      "import re\n",
      "from collections import defaultdict\n",
      "from pylab import figure, clf, plot, xlabel, ylabel, xlim, ylim, title, grid, axes, show, scatter\n",
      "from scipy.signal import kaiserord, lfilter, firwin, freqz, find_peaks_cwt, chirp\n",
      "from numpy import cos, sin, pi, absolute, arange, arange\n",
      "# from detect_peaks import detect_peaks\n",
      "\n",
      "SAMPLERATE = 48000\n",
      "\n",
      "def parseHeader(line):\n",
      "\tparts = line.strip().split(\"\\t\")\n",
      "\treturn {'time_sec':long(parts[1]), 'time_mill':int(parts[2]), \"frame\": long(parts[3]) }\n",
      "\n",
      "def loadframecounters(filepath, framecounters):\n",
      "\tcurframe = -1\n",
      "\twith open(filepath) as f:\n",
      "\t\tfor line in f:\n",
      "\t\t\tif line.strip().startswith('#'):\n",
      "\t\t\t\tcurHeader\t= parseHeader( line.strip() )\n",
      "\t\t\t\tcurframe\t= curHeader['frame']\n",
      "\t\t\t\t# print curHeader['frame']\n",
      "\t\t\telse:\n",
      "\t\t\t\tcounter = 0\n",
      "\t\t\t\taudio_in_one_buffer = line.strip().split(\",\")\n",
      "\t\t\t\tfor audio_frame in audio_in_one_buffer:\n",
      "\t\t\t\t\ttry:\n",
      "\t\t\t\t\t\tfloat(audio_frame)\n",
      "\t\t\t\t\t\tcurtime = float(curHeader['time_sec']) + float(curHeader['time_mill'])/1000 + float(counter)/SAMPLERATE\n",
      "\t\t\t\t\t\tif curframe == -1 :\n",
      "\t\t\t\t\t\t\tprint('error')\n",
      "\t\t\t\t\t\tframecounters.append( [curframe + counter, curtime])\n",
      "\t\t\t\t\t\tcounter += 1\t#let the counter start from 0\n",
      "\t\t\t\t\texcept ValueError:\n",
      "\t\t\t\t\t\tpass\n",
      "\t\t\t\t\t\t# print \"Not a float\", \"string start:\"+audio_frame+\"end.\"\n",
      "\t\t# print len(dev1_framecounters), counter\n",
      "\n",
      "def loadFiltered(filepath, output):\n",
      "\twith open(filepath) as f:\n",
      "\t\tfor line in f:\n",
      "\t\t\tif len(line.strip()) != 0:\n",
      "\t\t\t\toutput.append( float(line) )"
     ],
     "language": "python",
     "metadata": {},
     "outputs": [],
     "prompt_number": 4
    },
    {
     "cell_type": "code",
     "collapsed": false,
     "input": [
      "dev1_framecounters = []\n",
      "dev2_framecounters = []\n",
      "loadframecounters(\"/Users/haojian/tracko/TrackoEvaluation/python/friday/dev1/audiorecording.txt\", dev1_framecounters)\n",
      "loadframecounters(\"/Users/haojian/tracko/TrackoEvaluation/python/friday/dev2/audiorecording.txt\", dev2_framecounters)"
     ],
     "language": "python",
     "metadata": {},
     "outputs": [],
     "prompt_number": 62
    },
    {
     "cell_type": "code",
     "collapsed": false,
     "input": [
      "print (len(dev1_framecounters))\n",
      "print (len(dev2_framecounters))"
     ],
     "language": "python",
     "metadata": {},
     "outputs": [
      {
       "output_type": "stream",
       "stream": "stdout",
       "text": [
        "5814272\n",
        "5990400\n"
       ]
      }
     ],
     "prompt_number": 63
    },
    {
     "cell_type": "raw",
     "metadata": {},
     "source": []
    },
    {
     "cell_type": "code",
     "collapsed": false,
     "input": [
      "dev1_left = []\n",
      "dev2_left = []\n",
      "dev1_right = []\n",
      "dev2_right = []\n",
      "loadFiltered(\"/Users/haojian/tracko/TrackoEvaluation/python/friday/dev1/left.txt\", dev1_left)\n",
      "loadFiltered(\"/Users/haojian/tracko/TrackoEvaluation/python/friday/dev1/right.txt\", dev1_right)\n",
      "\n",
      "loadFiltered(\"/Users/haojian/tracko/TrackoEvaluation/python/friday/dev2/left.txt\", dev2_left)"
     ],
     "language": "python",
     "metadata": {},
     "outputs": [],
     "prompt_number": 64
    },
    {
     "cell_type": "code",
     "collapsed": false,
     "input": [
      "print (len(dev1_left))\n",
      "print (len(dev2_left))\n"
     ],
     "language": "python",
     "metadata": {},
     "outputs": [
      {
       "output_type": "stream",
       "stream": "stdout",
       "text": [
        "11628543\n",
        "11980799\n"
       ]
      }
     ],
     "prompt_number": 65
    },
    {
     "cell_type": "code",
     "collapsed": false,
     "input": [
      "leftpeaks1 = detect_peaks(dev1_left, mph = 25, show=False)\n",
      "leftpeaks2 = detect_peaks(dev2_left, mph = 25, show=False)\n",
      "\n",
      "plot([i for i in leftpeaks1], [dev1_left[i] for i in leftpeaks1], color=\"red\")"
     ],
     "language": "python",
     "metadata": {},
     "outputs": [
      {
       "metadata": {},
       "output_type": "pyout",
       "prompt_number": 66,
       "text": [
        "[<matplotlib.lines.Line2D at 0x18a346c50>]"
       ]
      },
      {
       "metadata": {},
       "output_type": "display_data",
       "png": "[encoded data removed]",
       "text": [
        "<matplotlib.figure.Figure at 0x14ca854d0>"
       ]
      }
     ],
     "prompt_number": 66
    },
    {
     "cell_type": "code",
     "collapsed": false,
     "input": [
      "def loadChirpMap(filepath):\n",
      "\tchirpmap = []\n",
      "\twith open(filepath) as f:\n",
      "\t\tfor line in f:\n",
      "\t\t\tif len(line.strip()) == 0:\n",
      "\t\t\t\tcontinue\n",
      "\t\t\tif line.strip().startswith('#'):\n",
      "\t\t\t\tcontinue\n",
      "\t\t\taudio_in_one_chirp = line.strip().split(\",\")[:-1]\n",
      "\t\t\tchirpmap.append(audio_in_one_chirp)\n",
      "\t\t\t# print len(audio_in_one_chirp), audio_in_one_chirp[:4]\n",
      "\treturn chirpmap\n",
      "\n",
      "#dev1 dev id 13\n",
      "#dev2 dev id 9\n",
      "chirpmaps1 = loadChirpMap(\"/Users/haojian/tracko/TrackoEvaluation/python/archive/chirpmaps_dev13.txt\")\n",
      "chirpmaps2 = loadChirpMap(\"/Users/haojian/tracko/TrackoEvaluation/python/archive/chirpmaps_dev9.txt\")\n",
      "print (len(chirpmaps1))\n",
      "print (len(chirpmaps2))\n"
     ],
     "language": "python",
     "metadata": {},
     "outputs": [
      {
       "output_type": "stream",
       "stream": "stdout",
       "text": [
        "8\n",
        "8\n"
       ]
      }
     ],
     "prompt_number": 68
    },
    {
     "cell_type": "code",
     "collapsed": false,
     "input": [
      "#peak from dev1\n"
     ],
     "language": "python",
     "metadata": {},
     "outputs": [
      {
       "metadata": {},
       "output_type": "pyout",
       "prompt_number": 10,
       "text": [
        "606624"
       ]
      }
     ],
     "prompt_number": 10
    },
    {
     "cell_type": "code",
     "collapsed": false,
     "input": [],
     "language": "python",
     "metadata": {},
     "outputs": []
    },
    {
     "cell_type": "code",
     "collapsed": false,
     "input": [
      "print(dev1_framecounters[ leftpeaks1[1] ])\n",
      "print(dev1_left[ leftpeaks1[1]] )\n",
      "print(dev2_framecounters[ leftpeaks2[0]] )\n",
      "print(dev2_left[ leftpeaks2[0]] )\n"
     ],
     "language": "python",
     "metadata": {},
     "outputs": [
      {
       "output_type": "stream",
       "stream": "stdout",
       "text": [
        "[1448946L, 1415244269.2230415]\n",
        "41.1845\n",
        "[370102L, 1415244307.9404585]\n",
        "51.5714\n"
       ]
      }
     ],
     "prompt_number": 25
    },
    {
     "cell_type": "code",
     "collapsed": false,
     "input": [
      "min = 1000\n",
      "for leftpeak in leftpeaks1:\n",
      "    if abs( dev1_framecounters[leftpeak][1] - 1415244307.9404585 ) < min:\n",
      "        min = abs( dev1_framecounters[leftpeak][1] - 1415244307.9404585 )\n",
      "        closeframe = dev1_framecounters[leftpeak]\n",
      "        idx = leftpeak\n",
      "        \n",
      "print(dev1_left[idx-2:idx+2])\n"
     ],
     "language": "python",
     "metadata": {},
     "outputs": [
      {
       "output_type": "stream",
       "stream": "stdout",
       "text": [
        "[27.2195, 27.2205, 27.2208, 27.2205]\n"
       ]
      }
     ],
     "prompt_number": 39
    },
    {
     "cell_type": "code",
     "collapsed": false,
     "input": [
      "min = 1000 \n",
      "for idx, tmp in enumerate(leftpeaks1):\n",
      "    if abs( dev2_framecounters(tmp[1])- 1415244307.9404585) < min:\n",
      "        min = abs(dev2_framecounters(tmp[1])- 1415244307.9404585)\n",
      "        closeframe = dev2_framecounters(tmp[1])\n",
      "        index = tmp[1]\n",
      "        \n",
      "print(closeframe)\n",
      "print(min)\n",
      "print(index)\n",
      "print( dev1_framecounters[index] )\n",
      "print( dev1_left[index] )"
     ],
     "language": "python",
     "metadata": {},
     "outputs": [
      {
       "output_type": "stream",
       "stream": "stdout",
       "text": [
        "[3307222L, 1415244307.9404583]\n",
        "2.38418579102e-07\n",
        "2432726\n",
        "[3307222L, 1415244307.9404583]\n",
        "0.0072056\n"
       ]
      }
     ],
     "prompt_number": 30
    },
    {
     "cell_type": "code",
     "collapsed": false,
     "input": [
      "for leftpeak1 in leftpeaks1:\n",
      "    pass\n",
      "# \tprint (dev1_left[leftpeak1], leftpeak1)"
     ],
     "language": "python",
     "metadata": {},
     "outputs": [],
     "prompt_number": 48
    },
    {
     "cell_type": "code",
     "collapsed": false,
     "input": [
      "#verify peak index\n",
      "print (dev1_left[leftpeak1-1])\n",
      "print (dev1_left[leftpeak1])\n",
      "print (dev1_left[leftpeak1+1])"
     ],
     "language": "python",
     "metadata": {},
     "outputs": [
      {
       "output_type": "stream",
       "stream": "stdout",
       "text": [
        "33.1443\n",
        "33.1886\n",
        "32.6483\n"
       ]
      }
     ],
     "prompt_number": 47
    },
    {
     "cell_type": "code",
     "collapsed": false,
     "input": [
      "for leftpeak1 in leftpeaks1:\n",
      "\tif dev1_left[leftpeak1] < 50:\n",
      "\t\tcontinue\n",
      "\tframeinfo = dev1_framecounters[leftpeak1]\n",
      "\tmin = 1000\n",
      "\t\n",
      "\tfor leftpeak2 in leftpeaks2:\n",
      "\t\tcurDiff = dev2_framecounters[leftpeak2][1] - frameinfo[1] \n",
      "\t\tif curDiff < min and curDiff > 0:\n",
      "\t\t\tmin = curDiff\n",
      "\t\t\tclosestframe = dev2_framecounters[leftpeak2] \n",
      "\t\t\tpeakcpy = leftpeak2\n",
      "\tif min < 2:\n",
      "\t\tprint (min)\n",
      "\t\tbreak\n",
      "print (\"chirp from 1: self score = \", dev1_left[leftpeak1], \" remote score = \", dev2_left[peakcpy])\n",
      "print (\"chirp from 1: self frame = \", dev1_framecounters[leftpeak1], \" remote score = \", dev2_framecounters[peakcpy])"
     ],
     "language": "python",
     "metadata": {},
     "outputs": [
      {
       "output_type": "stream",
       "stream": "stdout",
       "text": [
        "0.788749933243\n",
        "chirp from 1: self score =  52.2324  remote score =  31.4387\n",
        "chirp from 1: self frame =  [3846130L, 1415244319.168375]  remote score =  [946614L, 1415244319.957125]\n"
       ]
      }
     ],
     "prompt_number": 58
    },
    {
     "cell_type": "code",
     "collapsed": false,
     "input": [],
     "language": "python",
     "metadata": {},
     "outputs": []
    }
   ],
   "metadata": {}
  }
 ]
}