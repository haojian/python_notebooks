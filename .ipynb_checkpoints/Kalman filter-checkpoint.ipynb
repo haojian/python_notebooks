{
 "metadata": {
  "name": "",
  "signature": "sha256:a620a12d798afecc8d55f3070b4bf82986416a31e7aa656395a1d930b43a2332"
 },
 "nbformat": 3,
 "nbformat_minor": 0,
 "worksheets": [
  {
   "cells": [
    {
     "cell_type": "markdown",
     "metadata": {},
     "source": [
      "##kalman filter"
     ]
    },
    {
     "cell_type": "code",
     "collapsed": false,
     "input": [
      "from numpy import matrix, diag, random\n",
      "# Time step size\n",
      "dt = 0.1\n",
      "# Standard deviation of random accelerations\n",
      "sigma_a = 0.2\n",
      "# Standard deviation of observations\n",
      "sigma_z = 0.2\n",
      "\n",
      "# State vector: [p_x, p_y, p_z, v_x, v_y, v_z]^T\n",
      "X = matrix([[0.0], [0.0], [0.0], [0.0], [0.0], [0.0]])\n",
      "# Initial state covariance\n",
      "P = diag((0.0, 0.0, 0.0, 0.0, 0.0, 0.0))\n",
      "# State transition model\n",
      "A = matrix([[1, 0, 0, dt, 0, 0], [0, 1, 0, 0, dt, 0], [0, 0, 1, 0, 0, dt], [0, 0, 0, 1, 0, 0], [0, 0, 0, 0, 1, 0], [0, 0, 0, 0, 0, 1]])\n",
      "# B: Control-input model\n",
      "B = matrix([[(dt ** 2) / 2, 0, 0], [0, (dt ** 2)/2, 0], [0, 0, (dt ** 2)/2], [1, 0, 0], [0, 1, 0], [0, 0, 1]])\n",
      "# U: Control-input term: u_k = [a_x, a_y, a_z]^T\n",
      "U = matrix([[0.0], [0.0], [0.0]])\n",
      "\n",
      "# Observation vector [x, y, z]\n",
      "Z = matrix([[0.0], [0.0], [0.0]])\n",
      "# Observation model\n",
      "H = matrix([[1, 0, 0], [0, 1, 0], [0, 0, 1], [0, 0, 0], [0, 0, 0], [0, 0, 0]])\n",
      "# Observation covariance\n",
      "# R = matrix([[sigma_z ** 2, 0], [0, 1]])\n",
      "R = diag(((sigma_z ** 2), (sigma_z ** 2), (sigma_z ** 2)))\n",
      "# Process noise covariance matrix\n",
      "# Q = G * (G.T) * sigma_a ** 2\n",
      "R_v = diag(((sigma_a ** 2), (sigma_a ** 2), (sigma_a ** 2)))\n",
      "Q = B * R_v * B.T"
     ],
     "language": "python",
     "metadata": {},
     "outputs": [],
     "prompt_number": 16
    },
    {
     "cell_type": "code",
     "collapsed": false,
     "input": [
      "Q"
     ],
     "language": "python",
     "metadata": {},
     "outputs": [
      {
       "metadata": {},
       "output_type": "pyout",
       "prompt_number": 17,
       "text": [
        "matrix([[  1.00000000e-06,   0.00000000e+00,   0.00000000e+00,\n",
        "           2.00000000e-04,   0.00000000e+00,   0.00000000e+00],\n",
        "        [  0.00000000e+00,   1.00000000e-06,   0.00000000e+00,\n",
        "           0.00000000e+00,   2.00000000e-04,   0.00000000e+00],\n",
        "        [  0.00000000e+00,   0.00000000e+00,   1.00000000e-06,\n",
        "           0.00000000e+00,   0.00000000e+00,   2.00000000e-04],\n",
        "        [  2.00000000e-04,   0.00000000e+00,   0.00000000e+00,\n",
        "           4.00000000e-02,   0.00000000e+00,   0.00000000e+00],\n",
        "        [  0.00000000e+00,   2.00000000e-04,   0.00000000e+00,\n",
        "           0.00000000e+00,   4.00000000e-02,   0.00000000e+00],\n",
        "        [  0.00000000e+00,   0.00000000e+00,   2.00000000e-04,\n",
        "           0.00000000e+00,   0.00000000e+00,   4.00000000e-02]])"
       ]
      }
     ],
     "prompt_number": 17
    },
    {
     "cell_type": "code",
     "collapsed": false,
     "input": [],
     "language": "python",
     "metadata": {},
     "outputs": []
    }
   ],
   "metadata": {}
  }
 ]
}