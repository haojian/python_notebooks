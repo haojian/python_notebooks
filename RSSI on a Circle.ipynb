{
 "metadata": {
  "name": "",
  "signature": "sha256:c7a74e02b9f8c81ddefac5a2d2dd8046b049d1373cfed70d1ffcc8f078e89fd6"
 },
 "nbformat": 3,
 "nbformat_minor": 0,
 "worksheets": [
  {
   "cells": [
    {
     "cell_type": "code",
     "collapsed": false,
     "input": [
      "import numpy\n",
      "import matplotlib.pyplot as plt\n",
      "import mpl_toolkits.mplot3d\n",
      "import sys\n",
      "import math\n",
      "\n",
      "def smooth(x,window_len=11,window='hanning'):\n",
      "        if x.ndim != 1:\n",
      "                raise ValueError, \"smooth only accepts 1 dimension arrays.\"\n",
      "        if x.size < window_len:\n",
      "                raise ValueError, \"Input vector needs to be bigger than window size.\"\n",
      "        if window_len<3:\n",
      "                return x\n",
      "        if not window in ['flat', 'hanning', 'hamming', 'bartlett', 'blackman']:\n",
      "                raise ValueError, \"Window is on of 'flat', 'hanning', 'hamming', 'bartlett', 'blackman'\"\n",
      "        s=numpy.r_[2*x[0]-x[window_len-1::-1],x,2*x[-1]-x[-1:-window_len:-1]]\n",
      "        if window == 'flat': #moving average\n",
      "                w=numpy.ones(window_len,'d')\n",
      "        else:  \n",
      "                w=eval('numpy.'+window+'(window_len)')\n",
      "        y=numpy.convolve(w/w.sum(),s,mode='same')\n",
      "        return y[window_len:-window_len+1]\n",
      "\n",
      "def find_nearest(array,value):\n",
      "    idx = (numpy.abs(array-value)).argmin()\n",
      "    return (array[idx], idx)\n"
     ],
     "language": "python",
     "metadata": {},
     "outputs": [],
     "prompt_number": 1
    },
    {
     "cell_type": "code",
     "collapsed": false,
     "input": [
      "f = file('18_26pm.txt')\n",
      "in_x = []\n",
      "in_y = []\n",
      "in_z = []\n",
      "in_heading = []\n",
      "while True:\n",
      "    line = f.readline()\n",
      "    if len(line) == 0:\n",
      "        break\n",
      "    if len(line.strip().split('\\t')) != 3:\n",
      "        print line\n",
      "        continue\n",
      "#     print line\n",
      "    [prefix, rssi, heading] = line.strip().split('\\t')\n",
      "    in_heading.append(float(heading))\n",
      "    in_x.append( 0.9 * math.sin(float(heading) / 180 * 3.14) )\n",
      "    in_y.append( 0.9 * math.cos(float(heading) / 180 * 3.14) )\n",
      "    in_z.append( int(rssi) );\n",
      "    \n",
      "smoothed   = smooth(numpy.array(in_z),window_len= 100)\n",
      "np_heading = numpy.array(in_heading)\n",
      "\n",
      "\n",
      "maxdiff = 0\n",
      "pointer = 0\n",
      "for i in range(len(in_heading)):\n",
      "    curHeading  = in_heading[i] \n",
      "    curRssi     = smoothed[i]\n",
      "    oppoHeading, index = find_nearest(np_heading, (curHeading + 180)%360)\n",
      "    newRssi     = smoothed[index]\n",
      "    if maxdiff < (curRssi - newRssi):\n",
      "        maxdiff = curRssi - newRssi\n",
      "        pointer = curHeading\n",
      "        print \"{}\\t{}\\t{}\\t{}\".format(pointer, maxdiff, curRssi, newRssi)\n",
      "    \n",
      "\n",
      "    "
     ],
     "language": "python",
     "metadata": {},
     "outputs": [
      {
       "ename": "IOError",
       "evalue": "[Errno 2] No such file or directory: '18_26pm.txt'",
       "output_type": "pyerr",
       "traceback": [
        "\u001b[0;31m---------------------------------------------------------------------------\u001b[0m\n\u001b[0;31mIOError\u001b[0m                                   Traceback (most recent call last)",
        "\u001b[0;32m<ipython-input-2-18587bc02b7b>\u001b[0m in \u001b[0;36m<module>\u001b[0;34m()\u001b[0m\n\u001b[0;32m----> 1\u001b[0;31m \u001b[0mf\u001b[0m \u001b[0;34m=\u001b[0m \u001b[0mfile\u001b[0m\u001b[0;34m(\u001b[0m\u001b[0;34m'18_26pm.txt'\u001b[0m\u001b[0;34m)\u001b[0m\u001b[0;34m\u001b[0m\u001b[0m\n\u001b[0m\u001b[1;32m      2\u001b[0m \u001b[0min_x\u001b[0m \u001b[0;34m=\u001b[0m \u001b[0;34m[\u001b[0m\u001b[0;34m]\u001b[0m\u001b[0;34m\u001b[0m\u001b[0m\n\u001b[1;32m      3\u001b[0m \u001b[0min_y\u001b[0m \u001b[0;34m=\u001b[0m \u001b[0;34m[\u001b[0m\u001b[0;34m]\u001b[0m\u001b[0;34m\u001b[0m\u001b[0m\n\u001b[1;32m      4\u001b[0m \u001b[0min_z\u001b[0m \u001b[0;34m=\u001b[0m \u001b[0;34m[\u001b[0m\u001b[0;34m]\u001b[0m\u001b[0;34m\u001b[0m\u001b[0m\n\u001b[1;32m      5\u001b[0m \u001b[0min_heading\u001b[0m \u001b[0;34m=\u001b[0m \u001b[0;34m[\u001b[0m\u001b[0;34m]\u001b[0m\u001b[0;34m\u001b[0m\u001b[0m\n",
        "\u001b[0;31mIOError\u001b[0m: [Errno 2] No such file or directory: '18_26pm.txt'"
       ]
      }
     ],
     "prompt_number": 2
    },
    {
     "cell_type": "code",
     "collapsed": false,
     "input": [
      "ax=plt.subplot(111,projection='3d')\n",
      "ax.plot(in_x, in_y, smoothed, color = 'r')\n",
      "# ax.scatter(x, y, z, zdir='z', c= 'red', marker = \"^\")\n",
      "# ax.bar(x, y, z, zdir='z', color='red', alpha=0.8)\n",
      "\n",
      "\n",
      "# ax.plot_surface(x,y,z,rstride=2,cstride=1,cmap=plt.cm.coolwarm,alpha=0.8)\n",
      "ax.set_xlabel('x')\n",
      "ax.set_ylabel('y')\n",
      "ax.set_zlabel('z')\n",
      "\n",
      "plt.show()"
     ],
     "language": "python",
     "metadata": {},
     "outputs": [
      {
       "ename": "NameError",
       "evalue": "name 'in_x' is not defined",
       "output_type": "pyerr",
       "traceback": [
        "\u001b[0;31m---------------------------------------------------------------------------\u001b[0m\n\u001b[0;31mNameError\u001b[0m                                 Traceback (most recent call last)",
        "\u001b[0;32m<ipython-input-3-bc38f22a1712>\u001b[0m in \u001b[0;36m<module>\u001b[0;34m()\u001b[0m\n\u001b[1;32m      1\u001b[0m \u001b[0max\u001b[0m\u001b[0;34m=\u001b[0m\u001b[0mplt\u001b[0m\u001b[0;34m.\u001b[0m\u001b[0msubplot\u001b[0m\u001b[0;34m(\u001b[0m\u001b[0;36m111\u001b[0m\u001b[0;34m,\u001b[0m\u001b[0mprojection\u001b[0m\u001b[0;34m=\u001b[0m\u001b[0;34m'3d'\u001b[0m\u001b[0;34m)\u001b[0m\u001b[0;34m\u001b[0m\u001b[0m\n\u001b[0;32m----> 2\u001b[0;31m \u001b[0max\u001b[0m\u001b[0;34m.\u001b[0m\u001b[0mplot\u001b[0m\u001b[0;34m(\u001b[0m\u001b[0min_x\u001b[0m\u001b[0;34m,\u001b[0m \u001b[0min_y\u001b[0m\u001b[0;34m,\u001b[0m \u001b[0msmoothed\u001b[0m\u001b[0;34m,\u001b[0m \u001b[0mcolor\u001b[0m \u001b[0;34m=\u001b[0m \u001b[0;34m'r'\u001b[0m\u001b[0;34m)\u001b[0m\u001b[0;34m\u001b[0m\u001b[0m\n\u001b[0m\u001b[1;32m      3\u001b[0m \u001b[0;31m# ax.scatter(x, y, z, zdir='z', c= 'red', marker = \"^\")\u001b[0m\u001b[0;34m\u001b[0m\u001b[0;34m\u001b[0m\u001b[0m\n\u001b[1;32m      4\u001b[0m \u001b[0;31m# ax.bar(x, y, z, zdir='z', color='red', alpha=0.8)\u001b[0m\u001b[0;34m\u001b[0m\u001b[0;34m\u001b[0m\u001b[0m\n\u001b[1;32m      5\u001b[0m \u001b[0;34m\u001b[0m\u001b[0m\n",
        "\u001b[0;31mNameError\u001b[0m: name 'in_x' is not defined"
       ]
      },
      {
       "metadata": {},
       "output_type": "display_data",
       "png": "[encoded data removed]",
       "text": [
        "<matplotlib.figure.Figure at 0x108121c90>"
       ]
      }
     ],
     "prompt_number": 3
    },
    {
     "cell_type": "code",
     "collapsed": false,
     "input": [
      "# obsolete code. not really works.\n",
      "\n",
      "f = file('17_39pm_new.txt')\n",
      "in_x = []\n",
      "in_y = []\n",
      "in_z = []\n",
      "in_heading = []\n",
      "while True:\n",
      "    line = f.readline()\n",
      "    if len(line) == 0:\n",
      "        break;\n",
      "#     print line\n",
      "    [prefix, heading, rssi] = line.strip().split('\\t')\n",
      "    in_heading.append(float(heading))\n",
      "    in_x.append( 0.9 * math.sin(float(heading) / 180 * 3.14) )\n",
      "    in_y.append( 0.9 * math.cos(float(heading) / 180 * 3.14) )\n",
      "    in_z.append( float(rssi) );\n",
      "    \n",
      "smoothed = smooth(numpy.array(in_z),window_len= 200)\n",
      "np_heading = numpy.array(in_heading)\n",
      "\n",
      "maxdiff = 0\n",
      "pointer = 0\n",
      "for i in range(len(in_heading)):\n",
      "    curHeading  = in_heading[i] \n",
      "    curRssi     = smoothed[i]\n",
      "    oppoHeading, index = find_nearest(np_heading, (curHeading + 180)%360)\n",
      "    newRssi     = smoothed[index]\n",
      "    if maxdiff < (curRssi - newRssi):\n",
      "        maxdiff = curRssi - newRssi\n",
      "        pointer = curHeading\n",
      "        print \"{}\\t{}\\t{}\\t{}\".format(pointer, maxdiff, curRssi, newRssi)"
     ],
     "language": "python",
     "metadata": {},
     "outputs": [
      {
       "ename": "IOError",
       "evalue": "[Errno 2] No such file or directory: '17_39pm_new.txt'",
       "output_type": "pyerr",
       "traceback": [
        "\u001b[0;31m---------------------------------------------------------------------------\u001b[0m\n\u001b[0;31mIOError\u001b[0m                                   Traceback (most recent call last)",
        "\u001b[0;32m<ipython-input-4-0b6b8f3992f6>\u001b[0m in \u001b[0;36m<module>\u001b[0;34m()\u001b[0m\n\u001b[1;32m      1\u001b[0m \u001b[0;31m# obsolete code. not really works.\u001b[0m\u001b[0;34m\u001b[0m\u001b[0;34m\u001b[0m\u001b[0m\n\u001b[1;32m      2\u001b[0m \u001b[0;34m\u001b[0m\u001b[0m\n\u001b[0;32m----> 3\u001b[0;31m \u001b[0mf\u001b[0m \u001b[0;34m=\u001b[0m \u001b[0mfile\u001b[0m\u001b[0;34m(\u001b[0m\u001b[0;34m'17_39pm_new.txt'\u001b[0m\u001b[0;34m)\u001b[0m\u001b[0;34m\u001b[0m\u001b[0m\n\u001b[0m\u001b[1;32m      4\u001b[0m \u001b[0min_x\u001b[0m \u001b[0;34m=\u001b[0m \u001b[0;34m[\u001b[0m\u001b[0;34m]\u001b[0m\u001b[0;34m\u001b[0m\u001b[0m\n\u001b[1;32m      5\u001b[0m \u001b[0min_y\u001b[0m \u001b[0;34m=\u001b[0m \u001b[0;34m[\u001b[0m\u001b[0;34m]\u001b[0m\u001b[0;34m\u001b[0m\u001b[0m\n",
        "\u001b[0;31mIOError\u001b[0m: [Errno 2] No such file or directory: '17_39pm_new.txt'"
       ]
      }
     ],
     "prompt_number": 4
    },
    {
     "cell_type": "code",
     "collapsed": false,
     "input": [],
     "language": "python",
     "metadata": {},
     "outputs": [],
     "prompt_number": 4
    },
    {
     "cell_type": "code",
     "collapsed": false,
     "input": [],
     "language": "python",
     "metadata": {},
     "outputs": []
    }
   ],
   "metadata": {}
  }
 ]
}