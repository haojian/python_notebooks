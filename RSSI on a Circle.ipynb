{
 "cells": [
  {
   "cell_type": "code",
   "execution_count": 3,
   "metadata": {
    "collapsed": false
   },
   "outputs": [],
   "source": [
    "import numpy\n",
    "import matplotlib.pyplot as plt\n",
    "import mpl_toolkits.mplot3d\n",
    "import sys\n",
    "import math\n",
    "\n",
    "def smooth(x,window_len=11,window='hanning'):\n",
    "        if x.ndim != 1:\n",
    "                raise ValueError, \"smooth only accepts 1 dimension arrays.\"\n",
    "        if x.size < window_len:\n",
    "                raise ValueError, \"Input vector needs to be bigger than window size.\"\n",
    "        if window_len<3:\n",
    "                return x\n",
    "        if not window in ['flat', 'hanning', 'hamming', 'bartlett', 'blackman']:\n",
    "                raise ValueError, \"Window is on of 'flat', 'hanning', 'hamming', 'bartlett', 'blackman'\"\n",
    "        s=numpy.r_[2*x[0]-x[window_len-1::-1],x,2*x[-1]-x[-1:-window_len:-1]]\n",
    "        if window == 'flat': #moving average\n",
    "                w=numpy.ones(window_len,'d')\n",
    "        else:  \n",
    "                w=eval('numpy.'+window+'(window_len)')\n",
    "        y=numpy.convolve(w/w.sum(),s,mode='same')\n",
    "        return y[window_len:-window_len+1]\n",
    "\n",
    "def find_nearest(array,value):\n",
    "    idx = (numpy.abs(array-value)).argmin()\n",
    "    return (array[idx], idx)\n"
   ]
  },
  {
   "cell_type": "code",
   "execution_count": 5,
   "metadata": {
    "collapsed": false
   },
   "outputs": [
    {
     "name": "stdout",
     "output_type": "stream",
     "text": [
      "345.422210693\t1.76579180206\t-69.0\t-70.7657918021\n",
      "130.605407715\t2.32899369552\t-69.7351588973\t-72.0641525928\n",
      "130.605407715\t2.34414298969\t-69.7200096032\t-72.0641525928\n",
      "130.605407715\t2.35517538096\t-69.7089772119\t-72.0641525928\n",
      "130.605407715\t2.362087119\t-69.7020654738\t-72.0641525928\n",
      "129.328018188\t2.36495205567\t-69.6992005372\t-72.0641525928\n",
      "313.462188721\t2.37874924711\t-67.3985344001\t-69.7772836472\n",
      "313.462188721\t2.57293790982\t-67.2043457374\t-69.7772836472\n",
      "313.462188721\t2.76943397258\t-67.0078496746\t-69.7772836472\n",
      "313.462188721\t2.96832068897\t-66.8089629582\t-69.7772836472\n",
      "313.462188721\t3.16930562739\t-66.6079780198\t-69.7772836472\n",
      "313.462188721\t3.37153881924\t-66.405744828\t-69.7772836472\n",
      "313.462188721\t3.57430762584\t-66.2029760214\t-69.7772836472\n"
     ]
    }
   ],
   "source": [
    "f = file('18_26pm.txt')\n",
    "in_x = []\n",
    "in_y = []\n",
    "in_z = []\n",
    "in_heading = []\n",
    "while True:\n",
    "    line = f.readline()\n",
    "    if len(line) == 0:\n",
    "        break\n",
    "    if len(line.strip().split('\\t')) != 3:\n",
    "        print line\n",
    "        continue\n",
    "#     print line\n",
    "    [prefix, rssi, heading] = line.strip().split('\\t')\n",
    "    in_heading.append(float(heading))\n",
    "    in_x.append( 0.9 * math.sin(float(heading) / 180 * 3.14) )\n",
    "    in_y.append( 0.9 * math.cos(float(heading) / 180 * 3.14) )\n",
    "    in_z.append( int(rssi) );\n",
    "    \n",
    "smoothed   = smooth(numpy.array(in_z),window_len= 100)\n",
    "np_heading = numpy.array(in_heading)\n",
    "\n",
    "\n",
    "maxdiff = 0\n",
    "pointer = 0\n",
    "for i in range(len(in_heading)):\n",
    "    curHeading  = in_heading[i] \n",
    "    curRssi     = smoothed[i]\n",
    "    oppoHeading, index = find_nearest(np_heading, (curHeading + 180)%360)\n",
    "    newRssi     = smoothed[index]\n",
    "    if maxdiff < (curRssi - newRssi):\n",
    "        maxdiff = curRssi - newRssi\n",
    "        pointer = curHeading\n",
    "        print \"{}\\t{}\\t{}\\t{}\".format(pointer, maxdiff, curRssi, newRssi)\n",
    "    \n",
    "\n",
    "    "
   ]
  },
  {
   "cell_type": "code",
   "execution_count": 8,
   "metadata": {
    "collapsed": false
   },
   "outputs": [],
   "source": [
    "ax=plt.subplot(111,projection='3d')\n",
    "ax.plot(in_x, in_y, smoothed, color = 'r')\n",
    "# ax.scatter(x, y, z, zdir='z', c= 'red', marker = \"^\")\n",
    "# ax.bar(x, y, z, zdir='z', color='red', alpha=0.8)\n",
    "\n",
    "\n",
    "# ax.plot_surface(x,y,z,rstride=2,cstride=1,cmap=plt.cm.coolwarm,alpha=0.8)\n",
    "ax.set_xlabel('x')\n",
    "ax.set_ylabel('y')\n",
    "ax.set_zlabel('z')\n",
    "\n",
    "plt.show()"
   ]
  },
  {
   "cell_type": "code",
   "execution_count": 7,
   "metadata": {
    "collapsed": false
   },
   "outputs": [
    {
     "name": "stdout",
     "output_type": "stream",
     "text": [
      "0.0\t3.06938453958\t-68.3333\t-71.4026845396\n",
      "337.0\t3.12176568106\t-68.3987911592\t-71.5205568402\n",
      "338.0\t3.19556731774\t-68.3259946729\t-71.5215619906\n",
      "339.0\t3.26996094033\t-68.2520623123\t-71.5220232526\n",
      "340.0\t3.34488885548\t-68.1770334262\t-71.5219222817\n",
      "341.0\t3.42030315812\t-68.1009325348\t-71.5212356929\n",
      "342.0\t3.49617129628\t-68.0237749022\t-71.5199461985\n",
      "343.0\t3.57246713315\t-67.9455791919\t-71.5180463251\n",
      "344.0\t3.6491731273\t-67.8663631694\t-71.5155362967\n",
      "345.0\t3.72627049595\t-67.7861560766\t-71.5124265725\n",
      "346.0\t3.8037275821\t-67.7049978885\t-71.5087254706\n",
      "347.0\t3.88150903787\t-67.6229382864\t-71.5044473243\n",
      "348.0\t3.95957718459\t-67.5400352874\t-71.499612472\n",
      "349.0\t4.03788847863\t-67.4563462788\t-71.4942347574\n",
      "350.0\t4.11640216225\t-67.371928091\t-71.4883302532\n",
      "351.0\t4.19507988828\t-67.286835623\t-71.4819155112\n",
      "352.0\t4.27388359104\t-67.201120213\t-71.4750038041\n",
      "353.0\t4.3527798052\t-67.114830698\t-71.4676105032\n",
      "354.0\t4.43173064779\t-67.0280176584\t-71.4597483062\n",
      "355.0\t4.51067999265\t-66.9407386094\t-71.4514186021\n",
      "356.0\t4.58955762386\t-66.8530570536\t-71.4426146774\n",
      "357.0\t4.66827962105\t-66.765053084\t-71.4333327051\n",
      "358.0\t4.74675603996\t-66.6768191591\t-71.4235751991\n",
      "359.0\t4.8249091848\t-66.5884423916\t-71.4133515764\n"
     ]
    }
   ],
   "source": [
    "# obsolete code. not really works.\n",
    "\n",
    "f = file('17_39pm_new.txt')\n",
    "in_x = []\n",
    "in_y = []\n",
    "in_z = []\n",
    "in_heading = []\n",
    "while True:\n",
    "    line = f.readline()\n",
    "    if len(line) == 0:\n",
    "        break;\n",
    "#     print line\n",
    "    [prefix, heading, rssi] = line.strip().split('\\t')\n",
    "    in_heading.append(float(heading))\n",
    "    in_x.append( 0.9 * math.sin(float(heading) / 180 * 3.14) )\n",
    "    in_y.append( 0.9 * math.cos(float(heading) / 180 * 3.14) )\n",
    "    in_z.append( float(rssi) );\n",
    "    \n",
    "smoothed = smooth(numpy.array(in_z),window_len= 200)\n",
    "np_heading = numpy.array(in_heading)\n",
    "\n",
    "maxdiff = 0\n",
    "pointer = 0\n",
    "for i in range(len(in_heading)):\n",
    "    curHeading  = in_heading[i] \n",
    "    curRssi     = smoothed[i]\n",
    "    oppoHeading, index = find_nearest(np_heading, (curHeading + 180)%360)\n",
    "    newRssi     = smoothed[index]\n",
    "    if maxdiff < (curRssi - newRssi):\n",
    "        maxdiff = curRssi - newRssi\n",
    "        pointer = curHeading\n",
    "        print \"{}\\t{}\\t{}\\t{}\".format(pointer, maxdiff, curRssi, newRssi)"
   ]
  },
  {
   "cell_type": "code",
   "execution_count": null,
   "metadata": {
    "collapsed": false
   },
   "outputs": [],
   "source": []
  },
  {
   "cell_type": "code",
   "execution_count": null,
   "metadata": {
    "collapsed": false
   },
   "outputs": [],
   "source": []
  }
 ],
 "metadata": {
  "kernelspec": {
   "display_name": "Python 2",
   "language": "python",
   "name": "python2"
  },
  "language_info": {
   "codemirror_mode": {
    "name": "ipython",
    "version": 2
   },
   "file_extension": ".py",
   "mimetype": "text/x-python",
   "name": "python",
   "nbconvert_exporter": "python",
   "pygments_lexer": "ipython2",
   "version": "2.7.10"
  }
 },
 "nbformat": 4,
 "nbformat_minor": 0
}
